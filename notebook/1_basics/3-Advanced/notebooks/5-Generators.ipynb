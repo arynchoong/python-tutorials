{
 "cells": [
  {
   "cell_type": "code",
   "execution_count": 1,
   "metadata": {},
   "outputs": [],
   "source": [
    "import collections\n",
    "\n",
    "Card = collections.namedtuple('Card', ['rank', 'suit'])\n",
    "\n",
    "class CardDeck:\n",
    "    ranks = [str(n) for n in range(2,11)] + list('JQKA')\n",
    "    suits = 'Spades Diamonds Clubs Hearts'.split()\n",
    "    \n",
    "    def __init__(self):\n",
    "        self._cards = [Card(rank,suit) for suit in self.suits\n",
    "                                       for rank in self.ranks]\n",
    "    \n",
    "    def __len__(self):\n",
    "        return len(self._cards)\n",
    "    \n",
    "    def __getitem__(self, position):\n",
    "        return self._cards[position]\n",
    "    \n",
    "    def draw(self, count=1, from_top=True):\n",
    "        \"\"\"Draw cards from deck.\n",
    "        Cards drawn are removed from deck.\n",
    "        params: count\n",
    "                from_where: Bool = True from top, False from bottom of deck\n",
    "        \"\"\"\n",
    "        # Parameter validation\n",
    "        if count < 0:\n",
    "            raise ValueError('<count> cannot be a negative value! count=%d' % count)\n",
    "        \n",
    "        if from_top:\n",
    "            drawn_cards, self._cards = self._cards[:count], self._cards[count:]\n",
    "        else:\n",
    "            position = self.len() - count\n",
    "            drawn_cards, self._cards = self._cards[position:], self._cards[:position]            \n",
    "            \n",
    "        return drawn_cards"
   ]
  },
  {
   "cell_type": "markdown",
   "metadata": {},
   "source": [
    "# Generator Method\n",
    "Generator methods are used to save on disk memory, they are particularly useful because class objects can be very large.\n",
    "\n",
    "The next example uses the generator method which saves on memory and only produce item on demand."
   ]
  },
  {
   "cell_type": "code",
   "execution_count": 2,
   "metadata": {},
   "outputs": [],
   "source": [
    "class CardDeck:\n",
    "    ranks = [str(n) for n in range(2,11)] + list('JQKA')\n",
    "    suits = 'Spades Diamonds Clubs Hearts'.split()\n",
    "    \n",
    "    def __init__(self):\n",
    "        self._cards = [Card(rank,suit) for suit in self.suits\n",
    "                                       for rank in self.ranks]\n",
    "        self.index = 0\n",
    "\n",
    "    \n",
    "    def __len__(self):\n",
    "        return len(self._cards)\n",
    "    \n",
    "    def __getitem__(self, position):\n",
    "        return self._cards[position]\n",
    "    \n",
    "    def draw(self, count=1, from_top=True):\n",
    "        \"\"\"Draw cards from deck.\n",
    "        Cards drawn are removed from deck.\n",
    "        params: count\n",
    "                from_where: Bool = True from top, False from bottom of deck\n",
    "        \"\"\"\n",
    "        # Parameter validation\n",
    "        if count < 0:\n",
    "            raise ValueError('<count> cannot be a negative value! count=%d' % count)\n",
    "        \n",
    "        if from_top:\n",
    "            drawn_cards, self._cards = self._cards[:count], self._cards[count:]\n",
    "        else:\n",
    "            position = self.len() - count\n",
    "            drawn_cards, self._cards = self._cards[position:], self._cards[:position]            \n",
    "            \n",
    "        return drawn_cards\n",
    "    \n",
    "    def gen(self):\n",
    "        for card in self._cards:\n",
    "            yield card"
   ]
  },
  {
   "cell_type": "code",
   "execution_count": 3,
   "metadata": {},
   "outputs": [],
   "source": [
    "deck = CardDeck()"
   ]
  },
  {
   "cell_type": "code",
   "execution_count": 4,
   "metadata": {},
   "outputs": [
    {
     "data": {
      "text/plain": [
       "Card(rank='2', suit='Spades')"
      ]
     },
     "execution_count": 4,
     "metadata": {},
     "output_type": "execute_result"
    }
   ],
   "source": [
    "deck_gen = deck.gen()\n",
    "next(deck_gen)"
   ]
  },
  {
   "cell_type": "code",
   "execution_count": 5,
   "metadata": {},
   "outputs": [
    {
     "data": {
      "text/plain": [
       "Card(rank='3', suit='Spades')"
      ]
     },
     "execution_count": 5,
     "metadata": {},
     "output_type": "execute_result"
    }
   ],
   "source": [
    "next(deck_gen)"
   ]
  },
  {
   "cell_type": "code",
   "execution_count": null,
   "metadata": {},
   "outputs": [],
   "source": []
  }
 ],
 "metadata": {
  "kernelspec": {
   "display_name": "Python 3",
   "language": "python",
   "name": "python3"
  },
  "language_info": {
   "codemirror_mode": {
    "name": "ipython",
    "version": 3
   },
   "file_extension": ".py",
   "mimetype": "text/x-python",
   "name": "python",
   "nbconvert_exporter": "python",
   "pygments_lexer": "ipython3",
   "version": "3.7.6"
  }
 },
 "nbformat": 4,
 "nbformat_minor": 2
}
