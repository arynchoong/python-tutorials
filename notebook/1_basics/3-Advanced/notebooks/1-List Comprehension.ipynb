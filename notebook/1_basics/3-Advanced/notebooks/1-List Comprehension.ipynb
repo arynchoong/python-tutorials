{
 "cells": [
  {
   "cell_type": "markdown",
   "metadata": {},
   "source": [
    "# List Comprehension\n",
    "\n",
    "List comprehension is the idiom of Python Language.\n",
    "\n",
    "Once you have mastered the syntax, you will easily create complex lists using one line where without would need use five or ten.\n",
    "\n",
    "The syntax:\n",
    "    \n",
    "    [ <expression> for <var> in <iterable> ]"
   ]
  },
  {
   "cell_type": "code",
   "execution_count": 1,
   "metadata": {},
   "outputs": [
    {
     "data": {
      "text/plain": [
       "[0, 1, 2, 3, 4, 5, 6, 7, 8, 9]"
      ]
     },
     "execution_count": 1,
     "metadata": {},
     "output_type": "execute_result"
    }
   ],
   "source": [
    "[x for x in range(10)]"
   ]
  },
  {
   "cell_type": "code",
   "execution_count": 2,
   "metadata": {},
   "outputs": [
    {
     "data": {
      "text/plain": [
       "[0, 1, 4, 9, 16, 25, 36, 49, 64, 81]"
      ]
     },
     "execution_count": 2,
     "metadata": {},
     "output_type": "execute_result"
    }
   ],
   "source": [
    "# squares\n",
    "[x**2 for x in range(10)]"
   ]
  },
  {
   "cell_type": "markdown",
   "metadata": {},
   "source": [
    "Let's create the ranks and suits of a 52 cards deck using List Comprehension"
   ]
  },
  {
   "cell_type": "code",
   "execution_count": 3,
   "metadata": {},
   "outputs": [
    {
     "data": {
      "text/plain": [
       "[1, 2, 3, 4, 5, 6, 7, 8, 9, 10, 11, 12, 13]"
      ]
     },
     "execution_count": 3,
     "metadata": {},
     "output_type": "execute_result"
    }
   ],
   "source": [
    "ranks = [x for x in range(1,14)]\n",
    "ranks"
   ]
  },
  {
   "cell_type": "code",
   "execution_count": 4,
   "metadata": {},
   "outputs": [
    {
     "data": {
      "text/plain": [
       "['♥', '♦', '♣', '♠']"
      ]
     },
     "execution_count": 4,
     "metadata": {},
     "output_type": "execute_result"
    }
   ],
   "source": [
    "suits = [x for x in '♥♦♣♠']\n",
    "suits"
   ]
  },
  {
   "cell_type": "markdown",
   "metadata": {},
   "source": [
    "List comprehension is great at generating lists from 2 sets:"
   ]
  },
  {
   "cell_type": "code",
   "execution_count": 5,
   "metadata": {},
   "outputs": [
    {
     "data": {
      "text/plain": [
       "[(1, '♥'),\n",
       " (1, '♦'),\n",
       " (1, '♣'),\n",
       " (1, '♠'),\n",
       " (2, '♥'),\n",
       " (2, '♦'),\n",
       " (2, '♣'),\n",
       " (2, '♠'),\n",
       " (3, '♥'),\n",
       " (3, '♦'),\n",
       " (3, '♣'),\n",
       " (3, '♠'),\n",
       " (4, '♥'),\n",
       " (4, '♦'),\n",
       " (4, '♣'),\n",
       " (4, '♠'),\n",
       " (5, '♥'),\n",
       " (5, '♦'),\n",
       " (5, '♣'),\n",
       " (5, '♠'),\n",
       " (6, '♥'),\n",
       " (6, '♦'),\n",
       " (6, '♣'),\n",
       " (6, '♠'),\n",
       " (7, '♥'),\n",
       " (7, '♦'),\n",
       " (7, '♣'),\n",
       " (7, '♠'),\n",
       " (8, '♥'),\n",
       " (8, '♦'),\n",
       " (8, '♣'),\n",
       " (8, '♠'),\n",
       " (9, '♥'),\n",
       " (9, '♦'),\n",
       " (9, '♣'),\n",
       " (9, '♠'),\n",
       " (10, '♥'),\n",
       " (10, '♦'),\n",
       " (10, '♣'),\n",
       " (10, '♠'),\n",
       " (11, '♥'),\n",
       " (11, '♦'),\n",
       " (11, '♣'),\n",
       " (11, '♠'),\n",
       " (12, '♥'),\n",
       " (12, '♦'),\n",
       " (12, '♣'),\n",
       " (12, '♠'),\n",
       " (13, '♥'),\n",
       " (13, '♦'),\n",
       " (13, '♣'),\n",
       " (13, '♠')]"
      ]
     },
     "execution_count": 5,
     "metadata": {},
     "output_type": "execute_result"
    }
   ],
   "source": [
    "card_deck = [(rank,suit) for rank in ranks for suit in suits]\n",
    "card_deck"
   ]
  },
  {
   "cell_type": "markdown",
   "metadata": {},
   "source": [
    "### TRY: swapping the two for methods to compare the difference"
   ]
  },
  {
   "cell_type": "markdown",
   "metadata": {},
   "source": [
    "# Generator Expressions\n",
    "\n",
    "The <code>yield</code> keyword is associated with generators.\n",
    "\n",
    "It is similar to ListComp, but saves **memory** because it yields one item at a time.\n",
    "\n",
    "We just use round brackets instead of square brackets for GenExps"
   ]
  },
  {
   "cell_type": "code",
   "execution_count": 6,
   "metadata": {},
   "outputs": [],
   "source": [
    "card_deck = list(((rank, suit) for rank in ranks for suit in suits))"
   ]
  }
 ],
 "metadata": {
  "kernelspec": {
   "display_name": "Python 3",
   "language": "python",
   "name": "python3"
  },
  "language_info": {
   "codemirror_mode": {
    "name": "ipython",
    "version": 3
   },
   "file_extension": ".py",
   "mimetype": "text/x-python",
   "name": "python",
   "nbconvert_exporter": "python",
   "pygments_lexer": "ipython3",
   "version": "3.7.6"
  }
 },
 "nbformat": 4,
 "nbformat_minor": 2
}
