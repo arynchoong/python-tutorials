{
 "cells": [
  {
   "cell_type": "markdown",
   "metadata": {},
   "source": [
    "# Exceptions"
   ]
  },
  {
   "cell_type": "code",
   "execution_count": 1,
   "metadata": {},
   "outputs": [],
   "source": [
    "import collections\n",
    "\n",
    "Card = collections.namedtuple('Card', ['rank', 'suit'])\n",
    "\n",
    "class CardDeck:\n",
    "    ranks = [str(n) for n in range(2,11)] + list('JQKA')\n",
    "    suits = 'Spades Diamonds Clubs Hearts'.split()\n",
    "    \n",
    "    def __init__(self):\n",
    "        self._cards = [Card(rank,suit) for suit in self.suits\n",
    "                                       for rank in self.ranks]\n",
    "    \n",
    "    def __len__(self):\n",
    "        return len(self._cards)\n",
    "    \n",
    "    def __getitem__(self, position):\n",
    "        return self._cards[position]\n",
    "    \n",
    "    def draw(self, count=1, from_top=True):\n",
    "        \"\"\"Draw cards from deck.\n",
    "        Cards drawn are removed from deck.\n",
    "        params: count\n",
    "                from_where: Bool = True from top, False from bottom of deck\n",
    "        \"\"\"\n",
    "        # Parameter validation\n",
    "        if count < 0:\n",
    "            raise ValueError('<count> cannot be a negative value! count=%d' % count)\n",
    "        \n",
    "        if from_top:\n",
    "            drawn_cards, self._cards = self._cards[:count], self._cards[count:]\n",
    "        else:\n",
    "            position = self.len() - count\n",
    "            drawn_cards, self._cards = self._cards[position:], self._cards[:position]            \n",
    "            \n",
    "        return drawn_cards"
   ]
  },
  {
   "cell_type": "markdown",
   "metadata": {},
   "source": [
    "**Note**: namedtuple is a quick way to create a class without any methods. The above creates a Card class with 2 member\n",
    "\n",
    "The obove in line 27 is an Exception Handler, in order to avoid the user from going forwards, we raise an Exception and notify the user of the error.\n",
    "\n",
    "A list of build in exceptions can be found: https://docs.python.org/3/library/exceptions.html\n",
    "\n",
    "# Catch exceptions\n",
    "\n",
    "There will be instances where we might expect a failure, and we want to handle the failure without exiting the app.\n",
    "\n",
    "Common error would be trying to open a file to be read, error could occur if we have the file path or name wrong, for file encoding wrong, etc. \n",
    "\n",
    "Format for a Try Catch method:\n",
    "    \n",
    "    try:\n",
    "        <operations>\n",
    "    except <Exception>:\n",
    "        <handling logic>"
   ]
  },
  {
   "cell_type": "code",
   "execution_count": 2,
   "metadata": {},
   "outputs": [
    {
     "name": "stdout",
     "output_type": "stream",
     "text": [
      "IOError, cannot find file.\n"
     ]
    }
   ],
   "source": [
    "# Try example to open a file:\n",
    "try:\n",
    "    f = open(\"filename.txt\", \"r\")\n",
    "    s = f.readline()\n",
    "except IOError:\n",
    "    print(\"IOError, cannot find file.\")\n",
    "else:\n",
    "    print(\"File open and read successfully.\")"
   ]
  },
  {
   "cell_type": "markdown",
   "metadata": {},
   "source": [
    "### TRY: Access a webpage, and catch the errors."
   ]
  }
 ],
 "metadata": {
  "kernelspec": {
   "display_name": "Python 3",
   "language": "python",
   "name": "python3"
  },
  "language_info": {
   "codemirror_mode": {
    "name": "ipython",
    "version": 3
   },
   "file_extension": ".py",
   "mimetype": "text/x-python",
   "name": "python",
   "nbconvert_exporter": "python",
   "pygments_lexer": "ipython3",
   "version": "3.7.6"
  }
 },
 "nbformat": 4,
 "nbformat_minor": 2
}
