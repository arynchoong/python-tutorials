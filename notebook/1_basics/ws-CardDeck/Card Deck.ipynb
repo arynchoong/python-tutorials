{
 "cells": [
  {
   "cell_type": "markdown",
   "metadata": {},
   "source": [
    "# Object Oriented\n",
    "Object Oriented Programming is where we structure our code in such a way that mimics how an object would have properties and functions of its own. (https://docs.python.org/3/reference/datamodel.html)\n",
    "\n",
    "To acheive the effect, we utilise **class**. (https://docs.python.org/3/tutorial/classes.html)\n",
    "\n",
    "The syntax for a Class in Python is:\n",
    "\n",
    "    class <Name>:\n",
    "        self.<member_variable> = <value>\n",
    "        \n",
    "        def <memberFunctionName>(self, <params>):\n",
    "            <logics>\n",
    "\n",
    "Let's create a 52 cards deck, by first create a class for an individual card, and put it together in a Deck.\n",
    "## Card Object"
   ]
  },
  {
   "cell_type": "code",
   "execution_count": 59,
   "metadata": {},
   "outputs": [],
   "source": [
    "class Card:\n",
    "    def __init__(self, rank, suit, unicode):\n",
    "        self.rank = rank\n",
    "        self.suit = suit\n",
    "        self.unicode = unicode\n",
    "    \n",
    "    def __repr__(self):\n",
    "        return 'Card(%s, %s, %s)' % (self.rank.name, self.suit.name, self.unicode)\n",
    "    \n",
    "    def __str__(self):\n",
    "        return '%s of %s' % (self.rank.name, self.suit.name)\n",
    "    \n",
    "    def show(self):\n",
    "        return self.unicode"
   ]
  },
  {
   "cell_type": "markdown",
   "metadata": {},
   "source": [
    "## Create Ranks and Suits"
   ]
  },
  {
   "cell_type": "code",
   "execution_count": 47,
   "metadata": {},
   "outputs": [],
   "source": [
    "import collections"
   ]
  },
  {
   "cell_type": "code",
   "execution_count": 52,
   "metadata": {},
   "outputs": [],
   "source": [
    "Rank = collections.namedtuple('Rank', ['name', 'value', 'unicode'])\n",
    "\n",
    "rank_name = ['Ace', 'Two', 'Three', 'Four', 'Five', 'Six', 'Seven',\n",
    "             'Eight', 'Nine', 'Ten', 'Jack', 'Queen', 'King']\n",
    "rank_unicode = ['A'] + [str(x) for x in range(2,11)] + list('JQK')\n",
    "\n",
    "ranks = []\n",
    "for i in range(13):\n",
    "    ranks.append(Rank(rank_name[i], i+1, rank_unicode[i]))"
   ]
  },
  {
   "cell_type": "code",
   "execution_count": 53,
   "metadata": {},
   "outputs": [
    {
     "data": {
      "text/plain": [
       "[Rank(name='Ace', value=1, unicode='A'),\n",
       " Rank(name='Two', value=2, unicode='2'),\n",
       " Rank(name='Three', value=3, unicode='3'),\n",
       " Rank(name='Four', value=4, unicode='4'),\n",
       " Rank(name='Five', value=5, unicode='5'),\n",
       " Rank(name='Six', value=6, unicode='6'),\n",
       " Rank(name='Seven', value=7, unicode='7'),\n",
       " Rank(name='Eight', value=8, unicode='8'),\n",
       " Rank(name='Nine', value=9, unicode='9'),\n",
       " Rank(name='Ten', value=10, unicode='10'),\n",
       " Rank(name='Jack', value=11, unicode='J'),\n",
       " Rank(name='Queen', value=12, unicode='Q'),\n",
       " Rank(name='King', value=13, unicode='K')]"
      ]
     },
     "execution_count": 53,
     "metadata": {},
     "output_type": "execute_result"
    }
   ],
   "source": [
    "ranks"
   ]
  },
  {
   "cell_type": "code",
   "execution_count": 49,
   "metadata": {},
   "outputs": [],
   "source": [
    "Suit = collections.namedtuple('Suit', ['name', 'colour', 'unicode'])\n",
    "\n",
    "suits_name = ['Spade', 'Heart', 'Diamond', 'Club']\n",
    "suits_colour = ['Black', 'Red', 'Red', 'Black']\n",
    "suits_unicode = ['♠','♡','♢','♣']\n",
    "\n",
    "suits = []\n",
    "for i in range(4):\n",
    "    suits.append(Suit(suits_name[i], suits_colour[i], suits_unicode[i]))"
   ]
  },
  {
   "cell_type": "code",
   "execution_count": 51,
   "metadata": {},
   "outputs": [
    {
     "data": {
      "text/plain": [
       "[Suit(name='Spade', colour='Black', unicode='♠'),\n",
       " Suit(name='Heart', colour='Red', unicode='♡'),\n",
       " Suit(name='Diamond', colour='Red', unicode='♢'),\n",
       " Suit(name='Club', colour='Black', unicode='♣')]"
      ]
     },
     "execution_count": 51,
     "metadata": {},
     "output_type": "execute_result"
    }
   ],
   "source": [
    "suits"
   ]
  },
  {
   "cell_type": "markdown",
   "metadata": {},
   "source": [
    "# Cards Deck Object"
   ]
  },
  {
   "cell_type": "code",
   "execution_count": 80,
   "metadata": {},
   "outputs": [],
   "source": [
    "ace_unicodes = ['🂡', '🂱', '🃁', '🃑']\n",
    "class CardDeck:\n",
    "    def __init__(self):\n",
    "        self.cards = []\n",
    "        # build deck\n",
    "        for sidx, suit in enumerate(suits):\n",
    "            ace_unicode = ace_unicodes[sidx]\n",
    "            for ridx, rank in enumerate(ranks):\n",
    "                if (ridx > 10): # This is to skip the Knight unicode\n",
    "                    ridx += 1\n",
    "                self.cards.append(Card(rank, suit, chr(ord(ace_unicode)+ridx)))\n",
    "    \n",
    "    def __str__(self):\n",
    "        cards_string = ''\n",
    "        for card in self.cards:\n",
    "            cards_string = cards_string + ' ' + card.show()\n",
    "        cards_string = cards_string[1:]\n",
    "        return cards_string"
   ]
  },
  {
   "cell_type": "code",
   "execution_count": 81,
   "metadata": {},
   "outputs": [],
   "source": [
    "deck = CardDeck()"
   ]
  },
  {
   "cell_type": "code",
   "execution_count": 82,
   "metadata": {},
   "outputs": [
    {
     "name": "stdout",
     "output_type": "stream",
     "text": [
      "🂡 🂢 🂣 🂤 🂥 🂦 🂧 🂨 🂩 🂪 🂫 🂭 🂮 🂱 🂲 🂳 🂴 🂵 🂶 🂷 🂸 🂹 🂺 🂻 🂽 🂾 🃁 🃂 🃃 🃄 🃅 🃆 🃇 🃈 🃉 🃊 🃋 🃍 🃎 🃑 🃒 🃓 🃔 🃕 🃖 🃗 🃘 🃙 🃚 🃛 🃝 🃞\n"
     ]
    }
   ],
   "source": [
    "print(deck)"
   ]
  },
  {
   "cell_type": "code",
   "execution_count": 31,
   "metadata": {},
   "outputs": [
    {
     "data": {
      "text/plain": [
       "'1f0c2'"
      ]
     },
     "execution_count": 31,
     "metadata": {},
     "output_type": "execute_result"
    }
   ],
   "source": [
    "'%x' % ord('🃂')"
   ]
  },
  {
   "cell_type": "code",
   "execution_count": 43,
   "metadata": {},
   "outputs": [
    {
     "name": "stdout",
     "output_type": "stream",
     "text": [
      "b'\\x01F0C2'\n"
     ]
    }
   ],
   "source": [
    "print('\\u0001F0C2'.encode('ascii'))"
   ]
  },
  {
   "cell_type": "code",
   "execution_count": 44,
   "metadata": {},
   "outputs": [
    {
     "data": {
      "text/plain": [
       "'\\x01F0C2'"
      ]
     },
     "execution_count": 44,
     "metadata": {},
     "output_type": "execute_result"
    }
   ],
   "source": [
    "b'\\x01F0C2'.decode(\"utf-8\")"
   ]
  },
  {
   "cell_type": "code",
   "execution_count": 45,
   "metadata": {},
   "outputs": [
    {
     "data": {
      "text/plain": [
       "127170"
      ]
     },
     "execution_count": 45,
     "metadata": {},
     "output_type": "execute_result"
    }
   ],
   "source": [
    "ord('🃂')"
   ]
  },
  {
   "cell_type": "code",
   "execution_count": 46,
   "metadata": {},
   "outputs": [
    {
     "data": {
      "text/plain": [
       "'🃂'"
      ]
     },
     "execution_count": 46,
     "metadata": {},
     "output_type": "execute_result"
    }
   ],
   "source": [
    "chr(127170)"
   ]
  },
  {
   "cell_type": "code",
   "execution_count": null,
   "metadata": {},
   "outputs": [],
   "source": []
  }
 ],
 "metadata": {
  "kernelspec": {
   "display_name": "Python 3",
   "language": "python",
   "name": "python3"
  },
  "language_info": {
   "codemirror_mode": {
    "name": "ipython",
    "version": 3
   },
   "file_extension": ".py",
   "mimetype": "text/x-python",
   "name": "python",
   "nbconvert_exporter": "python",
   "pygments_lexer": "ipython3",
   "version": "3.7.6"
  }
 },
 "nbformat": 4,
 "nbformat_minor": 2
}
