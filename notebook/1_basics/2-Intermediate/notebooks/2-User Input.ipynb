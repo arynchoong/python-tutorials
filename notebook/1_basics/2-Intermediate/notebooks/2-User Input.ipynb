{
 "cells": [
  {
   "cell_type": "markdown",
   "metadata": {},
   "source": [
    "## Card & Deck Object"
   ]
  },
  {
   "cell_type": "code",
   "execution_count": 1,
   "metadata": {},
   "outputs": [],
   "source": [
    "class Card:\n",
    "    def __init__(self, rank, suit):\n",
    "        self.rank = rank\n",
    "        self.suit = suit\n",
    "    \n",
    "    def show(self):\n",
    "        string = self.rank + ' of ' + self.suit\n",
    "        return string"
   ]
  },
  {
   "cell_type": "code",
   "execution_count": 2,
   "metadata": {},
   "outputs": [],
   "source": [
    "class CardDeck:\n",
    "    def __init__(self):\n",
    "        self.cards = []\n",
    "        # build deck\n",
    "        for suit in suits:\n",
    "            for rank in ranks:\n",
    "                self.cards.append(Card(rank, suit))\n",
    "    \n",
    "    def __str__(self):\n",
    "        cards_string = ''\n",
    "        for card in self.cards:\n",
    "            cards_string = cards_string + '| ' + card.show()\n",
    "        # remove first seperator\n",
    "        return cards_string[2:]"
   ]
  },
  {
   "cell_type": "code",
   "execution_count": 3,
   "metadata": {},
   "outputs": [],
   "source": [
    "ranks = ['Ace', 'Two', 'Three', 'Four', 'Five', 'Six', 'Seven',\n",
    "             'Eight', 'Nine', 'Ten', 'Jack', 'Queen', 'King']\n",
    "suits = ['Hearts', 'Diamonds', 'Clubs', 'Spades']\n",
    "deck = CardDeck()"
   ]
  },
  {
   "cell_type": "markdown",
   "metadata": {},
   "source": [
    "# User Input\n",
    "the <code>input()</code> built in function takes a string as display string. And returns the user entered information as string."
   ]
  },
  {
   "cell_type": "code",
   "execution_count": 4,
   "metadata": {},
   "outputs": [
    {
     "name": "stdout",
     "output_type": "stream",
     "text": [
      "Please select a card: (Number between 0-51)0\n",
      "Your selected card is Ace of Hearts\n"
     ]
    }
   ],
   "source": [
    "user_input = input('Please select a card: (Number between 0-51)')\n",
    "print('Your selected card is',deck.cards[int(user_input)].show())"
   ]
  },
  {
   "cell_type": "markdown",
   "metadata": {},
   "source": [
    "### TRY: Create your own user input prompt"
   ]
  }
 ],
 "metadata": {
  "kernelspec": {
   "display_name": "Python 3",
   "language": "python",
   "name": "python3"
  },
  "language_info": {
   "codemirror_mode": {
    "name": "ipython",
    "version": 3
   },
   "file_extension": ".py",
   "mimetype": "text/x-python",
   "name": "python",
   "nbconvert_exporter": "python",
   "pygments_lexer": "ipython3",
   "version": "3.7.6"
  }
 },
 "nbformat": 4,
 "nbformat_minor": 2
}
