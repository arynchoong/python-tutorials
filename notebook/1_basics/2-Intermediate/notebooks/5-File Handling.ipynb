{
 "cells": [
  {
   "cell_type": "code",
   "execution_count": 1,
   "metadata": {},
   "outputs": [],
   "source": [
    "class Card:\n",
    "    def __init__(self, rank, suit):\n",
    "        self.rank = rank\n",
    "        self.suit = suit\n",
    "    \n",
    "    def show(self):\n",
    "        string = self.rank + ' of ' + self.suit\n",
    "        return string"
   ]
  },
  {
   "cell_type": "code",
   "execution_count": 2,
   "metadata": {},
   "outputs": [],
   "source": [
    "ranks = ('Ace', 'Two', 'Three', 'Four', 'Five', 'Six', 'Seven',\n",
    "             'Eight', 'Nine', 'Ten', 'Jack', 'Queen', 'King')\n",
    "suits = ('Hearts', 'Diamonds', 'Clubs', 'Spades')"
   ]
  },
  {
   "cell_type": "code",
   "execution_count": 3,
   "metadata": {},
   "outputs": [],
   "source": [
    "class CardDeck:\n",
    "    def __init__(self):\n",
    "        self.cards = []\n",
    "        # build deck\n",
    "        for suit in suits:\n",
    "            for rank in ranks:\n",
    "                self.cards.append(Card(rank, suit))\n",
    "    \n",
    "    def __str__(self):\n",
    "        cards_string = ''\n",
    "        for card in self.cards:\n",
    "            cards_string = cards_string + '| ' + card.show()\n",
    "        # remove first seperator\n",
    "        return cards_string[2:]"
   ]
  },
  {
   "cell_type": "code",
   "execution_count": 4,
   "metadata": {},
   "outputs": [],
   "source": [
    "deck = CardDeck()"
   ]
  },
  {
   "cell_type": "markdown",
   "metadata": {},
   "source": [
    "# File Handling\n",
    "\n",
    "Just need to use open()\n",
    "\n",
    "\n",
    "The main issue with file handling is that we need to take care to close the file after we open it. \n",
    "\n",
    "In order to avoid forgetting to close file, we use the following format:\n",
    "\n",
    "    with open('<filename>') as <file_variable>:\n",
    "        <operations>"
   ]
  },
  {
   "cell_type": "code",
   "execution_count": 5,
   "metadata": {},
   "outputs": [],
   "source": [
    "from os import linesep"
   ]
  },
  {
   "cell_type": "code",
   "execution_count": 6,
   "metadata": {},
   "outputs": [],
   "source": [
    "with open('data.txt', 'w') as file:\n",
    "    for card in deck.cards:\n",
    "        file.write(str(card) + linesep)"
   ]
  },
  {
   "cell_type": "markdown",
   "metadata": {},
   "source": [
    "### TRY: Open the data.txt file to read with <code>'r'</code> and print it"
   ]
  }
 ],
 "metadata": {
  "kernelspec": {
   "display_name": "Python 3",
   "language": "python",
   "name": "python3"
  },
  "language_info": {
   "codemirror_mode": {
    "name": "ipython",
    "version": 3
   },
   "file_extension": ".py",
   "mimetype": "text/x-python",
   "name": "python",
   "nbconvert_exporter": "python",
   "pygments_lexer": "ipython3",
   "version": "3.7.6"
  }
 },
 "nbformat": 4,
 "nbformat_minor": 2
}
