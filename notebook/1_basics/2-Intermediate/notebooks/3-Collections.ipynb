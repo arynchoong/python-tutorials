{
 "cells": [
  {
   "cell_type": "markdown",
   "metadata": {},
   "source": [
    "# Collections\n",
    "\n",
    "Collection types in Python is fairly powerful. \n",
    "\n",
    "Other than the most common Lists and Strings are the following:\n",
    " * Tuples\n",
    " * Dictionary\n",
    " * Sets"
   ]
  },
  {
   "cell_type": "markdown",
   "metadata": {},
   "source": [
    "## Tuples\n",
    "Tuples are immutable lists that consist of set data.  \n",
    "\n",
    "They have two important aspects:-\n",
    " * immutable (opposed to lists)\n",
    " * holds data without field names (opposed to dicts)\n",
    "\n",
    "Let's use a Tuple to set up a 52 card deck."
   ]
  },
  {
   "cell_type": "code",
   "execution_count": 1,
   "metadata": {},
   "outputs": [],
   "source": [
    "class Card:\n",
    "    def __init__(self, rank, suit):\n",
    "        self.rank = rank\n",
    "        self.suit = suit\n",
    "    \n",
    "    def show(self):\n",
    "        string = self.rank + ' of ' + self.suit\n",
    "        return string"
   ]
  },
  {
   "cell_type": "code",
   "execution_count": 2,
   "metadata": {},
   "outputs": [],
   "source": [
    "ranks = ('Ace', 'Two', 'Three', 'Four', 'Five', 'Six', 'Seven',\n",
    "             'Eight', 'Nine', 'Ten', 'Jack', 'Queen', 'King')\n",
    "suits = ('Hearts', 'Diamonds', 'Clubs', 'Spades')"
   ]
  },
  {
   "cell_type": "markdown",
   "metadata": {},
   "source": [
    "**Note**: There is an inherited type of collections.namedtuple which hold field names."
   ]
  },
  {
   "cell_type": "code",
   "execution_count": 3,
   "metadata": {},
   "outputs": [],
   "source": [
    "class CardDeck:\n",
    "    def __init__(self):\n",
    "        self.cards = []\n",
    "        # build deck\n",
    "        for suit in suits:\n",
    "            for rank in ranks:\n",
    "                self.cards.append(Card(rank, suit))\n",
    "    \n",
    "    def __str__(self):\n",
    "        cards_string = ''\n",
    "        for card in self.cards:\n",
    "            cards_string = cards_string + '| ' + card.show()\n",
    "        # remove first seperator\n",
    "        return cards_string[2:]"
   ]
  },
  {
   "cell_type": "code",
   "execution_count": 4,
   "metadata": {},
   "outputs": [],
   "source": [
    "deck = CardDeck()"
   ]
  },
  {
   "cell_type": "code",
   "execution_count": 5,
   "metadata": {},
   "outputs": [
    {
     "name": "stdout",
     "output_type": "stream",
     "text": [
      "Ace of Hearts| Two of Hearts| Three of Hearts| Four of Hearts| Five of Hearts| Six of Hearts| Seven of Hearts| Eight of Hearts| Nine of Hearts| Ten of Hearts| Jack of Hearts| Queen of Hearts| King of Hearts| Ace of Diamonds| Two of Diamonds| Three of Diamonds| Four of Diamonds| Five of Diamonds| Six of Diamonds| Seven of Diamonds| Eight of Diamonds| Nine of Diamonds| Ten of Diamonds| Jack of Diamonds| Queen of Diamonds| King of Diamonds| Ace of Clubs| Two of Clubs| Three of Clubs| Four of Clubs| Five of Clubs| Six of Clubs| Seven of Clubs| Eight of Clubs| Nine of Clubs| Ten of Clubs| Jack of Clubs| Queen of Clubs| King of Clubs| Ace of Spades| Two of Spades| Three of Spades| Four of Spades| Five of Spades| Six of Spades| Seven of Spades| Eight of Spades| Nine of Spades| Ten of Spades| Jack of Spades| Queen of Spades| King of Spades\n"
     ]
    }
   ],
   "source": [
    "print(deck)"
   ]
  },
  {
   "cell_type": "markdown",
   "metadata": {},
   "source": [
    "## Dictionary\n",
    "\n",
    "Python's dictionaries are hash tables, and consists of key-value pairs.\n",
    "Dictionaries are enclosed by curly braces '{' '}' and values can be assigned and accessed like a dictionary/hash table.\n",
    "Order of the elements is not maintained in a dictionary."
   ]
  },
  {
   "cell_type": "code",
   "execution_count": 6,
   "metadata": {},
   "outputs": [],
   "source": [
    "french_deck = {\n",
    "    'ranks':('Ace', 'Two', 'Three', 'Four', 'Five', 'Six', 'Seven',\n",
    "             'Eight', 'Nine', 'Ten', 'Jack', 'Queen', 'King'),\n",
    "    'suits':('Hearts', 'Diamonds', 'Clubs', 'Spades')\n",
    "}"
   ]
  },
  {
   "cell_type": "code",
   "execution_count": 7,
   "metadata": {},
   "outputs": [
    {
     "data": {
      "text/plain": [
       "dict"
      ]
     },
     "execution_count": 7,
     "metadata": {},
     "output_type": "execute_result"
    }
   ],
   "source": [
    "type(french_deck)"
   ]
  },
  {
   "cell_type": "markdown",
   "metadata": {},
   "source": [
    "## Sets\n",
    "\n",
    "Sets are a methematical concept, they are a lot like dictionaries with keys but no corresponding values.\n",
    "Sets are enclosed by curly braces, elements seperated by comma, '{','}'.\n",
    "Sets do not support indexing or slicing, and do not have inherent order."
   ]
  },
  {
   "cell_type": "code",
   "execution_count": 8,
   "metadata": {},
   "outputs": [],
   "source": [
    "ranks = {'Ace', 2, 3, 4, 5, 6, 7, 8, 9, 10, 'Jack', 'Queen', 'King'}"
   ]
  },
  {
   "cell_type": "code",
   "execution_count": 9,
   "metadata": {},
   "outputs": [
    {
     "data": {
      "text/plain": [
       "set"
      ]
     },
     "execution_count": 9,
     "metadata": {},
     "output_type": "execute_result"
    }
   ],
   "source": [
    "type(ranks)"
   ]
  },
  {
   "cell_type": "markdown",
   "metadata": {},
   "source": [
    "### TRY: Create your own tuples, dictionary and sets"
   ]
  }
 ],
 "metadata": {
  "kernelspec": {
   "display_name": "Python 3",
   "language": "python",
   "name": "python3"
  },
  "language_info": {
   "codemirror_mode": {
    "name": "ipython",
    "version": 3
   },
   "file_extension": ".py",
   "mimetype": "text/x-python",
   "name": "python",
   "nbconvert_exporter": "python",
   "pygments_lexer": "ipython3",
   "version": "3.7.6"
  }
 },
 "nbformat": 4,
 "nbformat_minor": 2
}
