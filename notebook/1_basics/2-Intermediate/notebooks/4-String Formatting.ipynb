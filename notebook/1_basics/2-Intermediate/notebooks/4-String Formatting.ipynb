{
 "cells": [
  {
   "cell_type": "code",
   "execution_count": 1,
   "metadata": {},
   "outputs": [],
   "source": [
    "ranks = ('Ace', 'Two', 'Three', 'Four', 'Five', 'Six', 'Seven',\n",
    "             'Eight', 'Nine', 'Ten', 'Jack', 'Queen', 'King')\n",
    "suits = ('Hearts', 'Diamonds', 'Clubs', 'Spades')"
   ]
  },
  {
   "cell_type": "code",
   "execution_count": 2,
   "metadata": {},
   "outputs": [],
   "source": [
    "class CardDeck:\n",
    "    def __init__(self):\n",
    "        self.cards = []\n",
    "        # build deck\n",
    "        for suit in suits:\n",
    "            for rank in ranks:\n",
    "                self.cards.append(Card(rank, suit))\n",
    "    \n",
    "    def __str__(self):\n",
    "        cards_string = ''\n",
    "        for card in self.cards:\n",
    "            cards_string = cards_string + '| ' + card.show()\n",
    "        # remove first seperator\n",
    "        return cards_string[2:]"
   ]
  },
  {
   "cell_type": "markdown",
   "metadata": {},
   "source": [
    "# String Formatting\n",
    "We are usually referring to how we build a string using a mixture of hardcoded strings and variables.\n",
    "\n",
    "If we want to represent an Ace of Spades in simple string:"
   ]
  },
  {
   "cell_type": "code",
   "execution_count": 3,
   "metadata": {},
   "outputs": [],
   "source": [
    "class Card:\n",
    "    def __init__(self, rank, suit):\n",
    "        self.rank = rank\n",
    "        self.suit = suit\n",
    "    \n",
    "    def __repr__(self):\n",
    "        return \"Card(%r, %r)\" % (self.rank, self.suit)\n",
    "    \n",
    "    def __str__(self):\n",
    "        return \"{} of {}\".format(self.rank, self.suit)"
   ]
  },
  {
   "cell_type": "code",
   "execution_count": 4,
   "metadata": {},
   "outputs": [
    {
     "data": {
      "text/plain": [
       "Card('Three', 'Hearts')"
      ]
     },
     "execution_count": 4,
     "metadata": {},
     "output_type": "execute_result"
    }
   ],
   "source": [
    "deck = CardDeck()\n",
    "deck.cards[2]"
   ]
  },
  {
   "cell_type": "markdown",
   "metadata": {},
   "source": [
    "### TRY: Create different variation of string output"
   ]
  }
 ],
 "metadata": {
  "kernelspec": {
   "display_name": "Python 3",
   "language": "python",
   "name": "python3"
  },
  "language_info": {
   "codemirror_mode": {
    "name": "ipython",
    "version": 3
   },
   "file_extension": ".py",
   "mimetype": "text/x-python",
   "name": "python",
   "nbconvert_exporter": "python",
   "pygments_lexer": "ipython3",
   "version": "3.7.6"
  }
 },
 "nbformat": 4,
 "nbformat_minor": 2
}
