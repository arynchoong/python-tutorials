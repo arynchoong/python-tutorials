{
 "cells": [
  {
   "cell_type": "markdown",
   "metadata": {},
   "source": [
    "# Variables\n",
    "\n",
    "Variables are named identifiers that are used to store information and the information stored can be changed and manipulated.\n",
    "\n",
    "In Python, we can create a variable by giving it a value without needing any initialisation to set it's type.\n",
    "\n",
    "Let's create a poker card and give it a value."
   ]
  },
  {
   "cell_type": "code",
   "execution_count": 1,
   "metadata": {},
   "outputs": [],
   "source": [
    "king = 13"
   ]
  },
  {
   "cell_type": "markdown",
   "metadata": {},
   "source": [
    "The above **=** symbol is called an __assignment operator__.\n",
    "\n",
    "* **Operators** are special characters that is part of the Python syntax, and is recognized by the python language with special meaning and cannot be used as variables.\n",
    "* **Assignment operators** are used to the subset of operators to assign values to variables.\n",
    "\n",
    "\n",
    "And if we want to create an equation to use our variable, where the part to the right of the assignment operator is what we call an **expression** .  \n",
    "Python infers from the output of the expression the **type** of the variable. (https://docs.python.org/3/library/datatypes.html)"
   ]
  },
  {
   "cell_type": "code",
   "execution_count": 2,
   "metadata": {},
   "outputs": [
    {
     "data": {
      "text/plain": [
       "int"
      ]
     },
     "execution_count": 2,
     "metadata": {},
     "output_type": "execute_result"
    }
   ],
   "source": [
    "king_set = king * 4\n",
    "\n",
    "type(king_set)"
   ]
  },
  {
   "cell_type": "markdown",
   "metadata": {},
   "source": [
    "If we change our variable to a different type, the outcome will be different:"
   ]
  },
  {
   "cell_type": "code",
   "execution_count": 3,
   "metadata": {},
   "outputs": [
    {
     "data": {
      "text/plain": [
       "float"
      ]
     },
     "execution_count": 3,
     "metadata": {},
     "output_type": "execute_result"
    }
   ],
   "source": [
    "king = 13.0\n",
    "\n",
    "king_set = king * 4\n",
    "\n",
    "type(king_set)"
   ]
  },
  {
   "cell_type": "markdown",
   "metadata": {},
   "source": [
    "Our variable could also be a string type:"
   ]
  },
  {
   "cell_type": "code",
   "execution_count": 4,
   "metadata": {},
   "outputs": [
    {
     "data": {
      "text/plain": [
       "'Queen of Hearts Queen of Hearts'"
      ]
     },
     "execution_count": 4,
     "metadata": {},
     "output_type": "execute_result"
    }
   ],
   "source": [
    "queen_heart = 'Queen of Hearts'\n",
    "queen_heart + ' ' + queen_heart"
   ]
  },
  {
   "cell_type": "markdown",
   "metadata": {},
   "source": [
    "## Types\n",
    "Types refer to data type, whether it is string, integer, float.. etc.\n",
    "\n",
    "Python is a loosely typed language, meaning that a variable doesn't have to be fixed to a single type and can be \n",
    " * changed, and\n",
    " * inferred from assignment of value without initalising the type.\n",
    "\n",
    "Let's create a 52 cards deck using numbers and strings:-\n",
    "\n",
    "### TRY: find as many Python data types as possible"
   ]
  },
  {
   "cell_type": "code",
   "execution_count": 5,
   "metadata": {},
   "outputs": [],
   "source": [
    "# numbers\n",
    "num_of_suits = 4\n",
    "num_of_ranks = 13"
   ]
  },
  {
   "cell_type": "code",
   "execution_count": 6,
   "metadata": {},
   "outputs": [
    {
     "data": {
      "text/plain": [
       "list"
      ]
     },
     "execution_count": 6,
     "metadata": {},
     "output_type": "execute_result"
    }
   ],
   "source": [
    "# Arrays or Lists\n",
    "suits = ['Hearts', 'Diamonds', 'Clubs', 'Spades']\n",
    "ranks = [1, 2, 3, 4, 5, 6, 7, 8, 9, 10, 11, 12, 13]\n",
    "\n",
    "type(ranks)"
   ]
  }
 ],
 "metadata": {
  "kernelspec": {
   "display_name": "Python 3",
   "language": "python",
   "name": "python3"
  },
  "language_info": {
   "codemirror_mode": {
    "name": "ipython",
    "version": 3
   },
   "file_extension": ".py",
   "mimetype": "text/x-python",
   "name": "python",
   "nbconvert_exporter": "python",
   "pygments_lexer": "ipython3",
   "version": "3.7.6"
  }
 },
 "nbformat": 4,
 "nbformat_minor": 2
}
