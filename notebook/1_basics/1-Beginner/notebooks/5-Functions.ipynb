{
 "cells": [
  {
   "cell_type": "markdown",
   "metadata": {},
   "source": [
    "# Functions\n",
    "A simple rule is to never repeat ourselves.  \n",
    "If you find youself rewriting same piece of code, put it into a function."
   ]
  },
  {
   "cell_type": "code",
   "execution_count": 1,
   "metadata": {},
   "outputs": [],
   "source": [
    "suits = ['Hearts', 'Diamonds', 'Clubs', 'Spades']\n",
    "ranks = ['A', 2, 3, 4, 5, 6, 7, 8, 9, 10, 'J', 'Q', 'K']"
   ]
  },
  {
   "cell_type": "code",
   "execution_count": 2,
   "metadata": {},
   "outputs": [],
   "source": [
    "def create_deck():\n",
    "    # Loop through array\n",
    "    cards = []\n",
    "    for suit in suits:\n",
    "        for rank in ranks:\n",
    "            cards.append([rank,suit])\n",
    "    return cards"
   ]
  },
  {
   "cell_type": "code",
   "execution_count": 3,
   "metadata": {},
   "outputs": [
    {
     "name": "stdout",
     "output_type": "stream",
     "text": [
      "[['A', 'Hearts'], [2, 'Hearts'], [3, 'Hearts'], [4, 'Hearts'], [5, 'Hearts'], [6, 'Hearts'], [7, 'Hearts'], [8, 'Hearts'], [9, 'Hearts'], [10, 'Hearts'], ['J', 'Hearts'], ['Q', 'Hearts'], ['K', 'Hearts'], ['A', 'Diamonds'], [2, 'Diamonds'], [3, 'Diamonds'], [4, 'Diamonds'], [5, 'Diamonds'], [6, 'Diamonds'], [7, 'Diamonds'], [8, 'Diamonds'], [9, 'Diamonds'], [10, 'Diamonds'], ['J', 'Diamonds'], ['Q', 'Diamonds'], ['K', 'Diamonds'], ['A', 'Clubs'], [2, 'Clubs'], [3, 'Clubs'], [4, 'Clubs'], [5, 'Clubs'], [6, 'Clubs'], [7, 'Clubs'], [8, 'Clubs'], [9, 'Clubs'], [10, 'Clubs'], ['J', 'Clubs'], ['Q', 'Clubs'], ['K', 'Clubs'], ['A', 'Spades'], [2, 'Spades'], [3, 'Spades'], [4, 'Spades'], [5, 'Spades'], [6, 'Spades'], [7, 'Spades'], [8, 'Spades'], [9, 'Spades'], [10, 'Spades'], ['J', 'Spades'], ['Q', 'Spades'], ['K', 'Spades']]\n"
     ]
    }
   ],
   "source": [
    "cards = create_deck()\n",
    "print(cards)"
   ]
  },
  {
   "cell_type": "markdown",
   "metadata": {},
   "source": [
    "## Parameters\n",
    "We can create a function that takes in parameters and peform operations on those parameters.\n",
    "\n",
    "Syntax for a funtion goes like this:\n",
    "\n",
    "    def <FunctionName> (<Parameter-1>,<Parameter-2> <,...>) :\n",
    "        <statements(s)>\n",
    "        return <object>"
   ]
  },
  {
   "cell_type": "code",
   "execution_count": 4,
   "metadata": {},
   "outputs": [],
   "source": [
    "def show_card(card):\n",
    "    print(card)"
   ]
  },
  {
   "cell_type": "code",
   "execution_count": 5,
   "metadata": {},
   "outputs": [
    {
     "name": "stdout",
     "output_type": "stream",
     "text": [
      "['A', 'Hearts']\n"
     ]
    }
   ],
   "source": [
    "show_card(cards[0])"
   ]
  },
  {
   "cell_type": "markdown",
   "metadata": {},
   "source": [
    "### TRY: Create a function that adds any two cards"
   ]
  }
 ],
 "metadata": {
  "kernelspec": {
   "display_name": "Python 3",
   "language": "python",
   "name": "python3"
  },
  "language_info": {
   "codemirror_mode": {
    "name": "ipython",
    "version": 3
   },
   "file_extension": ".py",
   "mimetype": "text/x-python",
   "name": "python",
   "nbconvert_exporter": "python",
   "pygments_lexer": "ipython3",
   "version": "3.7.6"
  }
 },
 "nbformat": 4,
 "nbformat_minor": 2
}
