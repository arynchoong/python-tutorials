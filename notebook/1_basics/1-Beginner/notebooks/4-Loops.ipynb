{
 "cells": [
  {
   "cell_type": "markdown",
   "metadata": {},
   "source": [
    "# Loops\n",
    "\n",
    "Loops are a common way to iterrate an activity.  \n",
    "One of the basic common loop in all programming languagues is the for loop.\n",
    "\n",
    "Python's syntax for loops is somewhat unique:\n",
    "\n",
    "    for <var> in <iterable>:\n",
    "      <statement(s)>\n"
   ]
  },
  {
   "cell_type": "code",
   "execution_count": 1,
   "metadata": {},
   "outputs": [
    {
     "data": {
      "text/plain": [
       "[['A', 'Hearts'],\n",
       " [2, 'Hearts'],\n",
       " [3, 'Hearts'],\n",
       " [4, 'Hearts'],\n",
       " [5, 'Hearts'],\n",
       " [6, 'Hearts'],\n",
       " [7, 'Hearts'],\n",
       " [8, 'Hearts'],\n",
       " [9, 'Hearts'],\n",
       " [10, 'Hearts'],\n",
       " ['J', 'Hearts'],\n",
       " ['Q', 'Hearts'],\n",
       " ['K', 'Hearts'],\n",
       " ['A', 'Diamonds'],\n",
       " [2, 'Diamonds'],\n",
       " [3, 'Diamonds'],\n",
       " [4, 'Diamonds'],\n",
       " [5, 'Diamonds'],\n",
       " [6, 'Diamonds'],\n",
       " [7, 'Diamonds'],\n",
       " [8, 'Diamonds'],\n",
       " [9, 'Diamonds'],\n",
       " [10, 'Diamonds'],\n",
       " ['J', 'Diamonds'],\n",
       " ['Q', 'Diamonds'],\n",
       " ['K', 'Diamonds'],\n",
       " ['A', 'Clubs'],\n",
       " [2, 'Clubs'],\n",
       " [3, 'Clubs'],\n",
       " [4, 'Clubs'],\n",
       " [5, 'Clubs'],\n",
       " [6, 'Clubs'],\n",
       " [7, 'Clubs'],\n",
       " [8, 'Clubs'],\n",
       " [9, 'Clubs'],\n",
       " [10, 'Clubs'],\n",
       " ['J', 'Clubs'],\n",
       " ['Q', 'Clubs'],\n",
       " ['K', 'Clubs'],\n",
       " ['A', 'Spades'],\n",
       " [2, 'Spades'],\n",
       " [3, 'Spades'],\n",
       " [4, 'Spades'],\n",
       " [5, 'Spades'],\n",
       " [6, 'Spades'],\n",
       " [7, 'Spades'],\n",
       " [8, 'Spades'],\n",
       " [9, 'Spades'],\n",
       " [10, 'Spades'],\n",
       " ['J', 'Spades'],\n",
       " ['Q', 'Spades'],\n",
       " ['K', 'Spades']]"
      ]
     },
     "execution_count": 1,
     "metadata": {},
     "output_type": "execute_result"
    }
   ],
   "source": [
    "suits = ['Hearts', 'Diamonds', 'Clubs', 'Spades']\n",
    "ranks = ['A', 2, 3, 4, 5, 6, 7, 8, 9, 10, 'J', 'Q', 'K']\n",
    "\n",
    "# Loop through array\n",
    "cards = []\n",
    "for suit in suits:\n",
    "    for rank in ranks:\n",
    "        cards.append([rank,suit])\n",
    "cards"
   ]
  },
  {
   "cell_type": "markdown",
   "metadata": {},
   "source": [
    "## Simple loop\n",
    "Sometimes we just want to loop <code>x</code> number of times.\n",
    "\n",
    "<code>range(start,end,step)</code> is a fairly powerful function to iterate counting."
   ]
  },
  {
   "cell_type": "code",
   "execution_count": 4,
   "metadata": {},
   "outputs": [
    {
     "name": "stdout",
     "output_type": "stream",
     "text": [
      "0\n",
      "1\n",
      "2\n",
      "3\n",
      "4\n",
      "5\n",
      "6\n",
      "7\n",
      "8\n",
      "9\n"
     ]
    }
   ],
   "source": [
    "for i in range(10):\n",
    "    print(i)"
   ]
  },
  {
   "cell_type": "markdown",
   "metadata": {},
   "source": [
    "### TRY: Create your own loops"
   ]
  }
 ],
 "metadata": {
  "kernelspec": {
   "display_name": "Python 3",
   "language": "python",
   "name": "python3"
  },
  "language_info": {
   "codemirror_mode": {
    "name": "ipython",
    "version": 3
   },
   "file_extension": ".py",
   "mimetype": "text/x-python",
   "name": "python",
   "nbconvert_exporter": "python",
   "pygments_lexer": "ipython3",
   "version": "3.7.6"
  }
 },
 "nbformat": 4,
 "nbformat_minor": 2
}
